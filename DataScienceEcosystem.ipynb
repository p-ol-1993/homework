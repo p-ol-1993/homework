{
 "cells": [
  {
   "cell_type": "markdown",
   "id": "206f3cc1-6683-43d4-85aa-8a8d752d0fa3",
   "metadata": {},
   "source": [
    "Exercise 2: Create markdown cell with title of the notebook\n",
    "Create a markdown cell with the title Data Science Tools and Ecosystem using H1 style heading"
   ]
  },
  {
   "cell_type": "markdown",
   "id": "2eeafccf-ff9e-41e8-929e-ae395f85019e",
   "metadata": {},
   "source": [
    "# Data Science Tools and Ecosystem"
   ]
  },
  {
   "cell_type": "markdown",
   "id": "d0bcfba2-fd1c-4d02-ad32-3af9dd83b4e7",
   "metadata": {},
   "source": [
    "# Data Science Tools and Ecosystem"
   ]
  },
  {
   "cell_type": "markdown",
   "id": "86a5e837-28c8-4c7d-b0bb-67fb74ddc7fa",
   "metadata": {},
   "source": [
    "Exercise 3 - Create a markdown cell for an introduction\n",
    "Write an introductory sentence about the notebook such as the follows:"
   ]
  },
  {
   "cell_type": "markdown",
   "id": "bd77e0a0-7f56-4ec3-a489-aa56ab811546",
   "metadata": {},
   "source": [
    "In this notebook, Data Science Tools and Ecosystem are summarized."
   ]
  },
  {
   "cell_type": "code",
   "execution_count": null,
   "id": "46d8ecc0-4d99-4ef0-bd24-9e09121e356d",
   "metadata": {},
   "outputs": [],
   "source": []
  },
  {
   "cell_type": "markdown",
   "id": "93222a9f-e6ac-41f4-a207-631014f2473f",
   "metadata": {},
   "source": [
    "Exercise 4 - Create a markdown cell to list data science languages\n",
    "Start the cell with an overview line such as:"
   ]
  },
  {
   "cell_type": "markdown",
   "id": "109d8543-9554-4d4f-a1a8-b4e923df142a",
   "metadata": {},
   "source": [
    "Some of the popular languages that Data Scientists use are:\n",
    "1. Python\n",
    "2. R\n",
    "3. SQL\n",
    "4. Julia"
   ]
  },
  {
   "cell_type": "markdown",
   "id": "f780e045-b0bc-453a-8647-cd79b16a1b3f",
   "metadata": {},
   "source": [
    "Some of the popular languages that Data Scientists use are:\n",
    "1. Python\n",
    "2. R\n",
    "3. SQL\n",
    "4. Julia"
   ]
  },
  {
   "cell_type": "code",
   "execution_count": null,
   "id": "894b8557-812c-40ab-982b-eb66a1bbed9c",
   "metadata": {},
   "outputs": [],
   "source": []
  },
  {
   "cell_type": "markdown",
   "id": "1e665aa9-a31f-474f-bc3f-2035084750f8",
   "metadata": {},
   "source": [
    "Exercise 5 - Create a markdown cell to list data science libraries\n",
    "Add an overview line to the cell like:\n",
    "\n",
    "Some of the commonly used libraries used by Data Scientists include:\n",
    "\n",
    "Below this line add an ordered list listing 3 (or more) commonly used libraries in data science."
   ]
  },
  {
   "cell_type": "markdown",
   "id": "1a3560b4-9d8c-4c65-b0a1-18906f532485",
   "metadata": {},
   "source": [
    "Some of the commonly used libraries used by Data Scientists include:\n",
    "1. Numpy\n",
    "2. Pandas\n",
    "3. Matplotlib\n",
    "4. SciPy"
   ]
  },
  {
   "cell_type": "markdown",
   "id": "02b23faf-8ac6-416d-b632-57dd37bf80c9",
   "metadata": {},
   "source": [
    "Some of the commonly used libraries used by Data Scientists include:\n",
    "1. Numpy\n",
    "2. Pandas\n",
    "3. Matplotlib\n",
    "4. SciPy"
   ]
  },
  {
   "cell_type": "code",
   "execution_count": null,
   "id": "cdbe5b4a-ea8e-4bb9-b863-ca891b6f7a38",
   "metadata": {},
   "outputs": [],
   "source": []
  },
  {
   "cell_type": "markdown",
   "id": "8044d370-852d-4360-a9ae-4b5277b79aae",
   "metadata": {},
   "source": [
    "Exercise 6 - Create a markdown cell with a table of Data Science tools\n",
    "\n",
    "Create a single column table in this cell with the first row containing the header Data Science Tools. The subsequent three rows in the table should indicate three development environment open source tools used in data science."
   ]
  },
  {
   "cell_type": "markdown",
   "id": "827d88b0-fc27-4b52-b38a-6a7f52b4d47a",
   "metadata": {},
   "source": [
    "| Data Science Tools | \n",
    "| - | \n",
    "| RStudio |\n",
    "| Anaconda |\n",
    "| VStudio Code|"
   ]
  },
  {
   "cell_type": "markdown",
   "id": "237c978d-6220-497a-8afc-83ba8cd655eb",
   "metadata": {},
   "source": [
    "| Data Science Tools | \n",
    "| - | \n",
    "| RStudio |\n",
    "| Anaconda |\n",
    "| VStudio Code|"
   ]
  },
  {
   "cell_type": "code",
   "execution_count": null,
   "id": "e686d541-7fb3-4685-8eb1-7b4416217af3",
   "metadata": {},
   "outputs": [],
   "source": []
  },
  {
   "cell_type": "markdown",
   "id": "04ae51de-aaf7-4072-bcb7-fc2c4d6cf5f8",
   "metadata": {},
   "source": [
    "Exercise 7 - Create a markdown cell introducing arithmetic expression examples\n",
    "\n",
    "Add a line in this cell with H3 style heading with text like:\n",
    "\n",
    "Below are a few examples of evaluating arithmetic expressions in Python."
   ]
  },
  {
   "cell_type": "markdown",
   "id": "79903bf3-d1fe-40d8-890e-d33701fe88a5",
   "metadata": {},
   "source": [
    "### Below are a few examples of evaluating arithmetic expressions in Python"
   ]
  },
  {
   "cell_type": "markdown",
   "id": "48f4f060-017d-4fea-9918-1cc474ef5215",
   "metadata": {},
   "source": [
    "### Below are a few examples of evaluating arithmetic expressions in Python"
   ]
  },
  {
   "cell_type": "code",
   "execution_count": null,
   "id": "4bb5422d-33b2-482e-8ff0-216fcc4f744f",
   "metadata": {},
   "outputs": [],
   "source": []
  },
  {
   "cell_type": "code",
   "execution_count": null,
   "id": "2878ef44-976c-4de1-b5e7-5a8546f480d7",
   "metadata": {},
   "outputs": [],
   "source": [
    "Exercise 8 - Create a code cell to multiply and add numbers\n",
    "\n",
    "In this code cell evaluate the expression (3*4)+5.\n",
    "\n",
    "Insert a comment line before the expression to explain the operation e.g.  \n",
    "    This a simple arithmetic expression to mutiply then add integers.\n",
    "Then execute the cell to ensure the expression returns the expected output of 17."
   ]
  },
  {
   "cell_type": "code",
   "execution_count": 3,
   "id": "6055fe3a-e84b-494f-8189-f5b6ee15b30d",
   "metadata": {},
   "outputs": [
    {
     "data": {
      "text/plain": [
       "17"
      ]
     },
     "execution_count": 3,
     "metadata": {},
     "output_type": "execute_result"
    }
   ],
   "source": [
    "#  This a simple arithmetic expression to mutiply then add integers\n",
    "(3*4)+5"
   ]
  },
  {
   "cell_type": "code",
   "execution_count": null,
   "id": "0b7ce2a4-7434-489f-aac4-7c6ad96b5574",
   "metadata": {},
   "outputs": [],
   "source": [
    "Exercise 9 - Create a code cell to convert minutes to hours\n",
    "\n",
    "In this code cell write an expression that converts 200 minutes into hours.\n",
    "Insert a comment line before the expression to explain the operation e.g.  This will convert 200 minutes to hours by diving by 60.\n",
    "Run the cell to evaluate the expression."
   ]
  },
  {
   "cell_type": "code",
   "execution_count": 4,
   "id": "8acebc2c-ff36-4335-a386-26ee00daa192",
   "metadata": {},
   "outputs": [
    {
     "data": {
      "text/plain": [
       "3.3333333333333335"
      ]
     },
     "execution_count": 4,
     "metadata": {},
     "output_type": "execute_result"
    }
   ],
   "source": [
    "# This will convert 200 minutes to hours by diving by 60\n",
    "200/60"
   ]
  },
  {
   "cell_type": "code",
   "execution_count": null,
   "id": "6620b2d9-9750-4c7f-88ad-2e21005550fe",
   "metadata": {},
   "outputs": [],
   "source": []
  },
  {
   "cell_type": "markdown",
   "id": "bd5f39a6-88c1-4160-af25-a9cee1c31c46",
   "metadata": {},
   "source": [
    "Exercise 10 - Insert a markdown cell to list Objectives\n",
    "\n",
    "Below the introduction cell created in Exercise 3, insert a new markdown cell to list the objectives that this notebook covered (i.e. some of the key takeaways from the course). In this new cell start with an introductory line titled: Objectives: in bold font. Then using an unordered list (bullets) indicate 3 to 5 items covered in this notebook, such as List popular languages for Data Science."
   ]
  },
  {
   "cell_type": "markdown",
   "id": "2f60c545-41f6-44d9-b0eb-2094a5f26b10",
   "metadata": {},
   "source": [
    "**Objectives:**\n",
    "+ List popular languages for Data Science\n",
    "+ List popular Data Science libraries\n",
    "+ List development environment open source tools used in data science"
   ]
  },
  {
   "cell_type": "markdown",
   "id": "50c01082-6506-4571-9406-995610a4d548",
   "metadata": {},
   "source": [
    "**Objectives:**\n",
    "+ List popular languages for Data Science\n",
    "+ List popular Data Science libraries\n",
    "+ List development environment open source tools used in data science"
   ]
  },
  {
   "cell_type": "code",
   "execution_count": null,
   "id": "9704a854-2814-49ba-9280-210b78436b45",
   "metadata": {},
   "outputs": [],
   "source": []
  },
  {
   "cell_type": "markdown",
   "id": "81e7356f-188f-429f-9dc6-3ceb066ced8d",
   "metadata": {},
   "source": [
    "Exercise 11 - Create a markdown cell to indicate the Author's name\n",
    "\n",
    "In this markdown cell markdown cell include the following text Author in H2 style heading. Include your name as regular text below the word Author."
   ]
  },
  {
   "cell_type": "markdown",
   "id": "6457e383-94ea-473c-8bea-3cadfec97379",
   "metadata": {},
   "source": [
    "## Author:\n",
    "Pierre Ojeda Loayza"
   ]
  },
  {
   "cell_type": "markdown",
   "id": "e52dd2f9-a723-466e-8910-00801b34fd0b",
   "metadata": {},
   "source": [
    "## Author:\n",
    "Pierre Ojeda Loayza"
   ]
  }
 ],
 "metadata": {
  "kernelspec": {
   "display_name": "Python 3 (ipykernel)",
   "language": "python",
   "name": "python3"
  },
  "language_info": {
   "codemirror_mode": {
    "name": "ipython",
    "version": 3
   },
   "file_extension": ".py",
   "mimetype": "text/x-python",
   "name": "python",
   "nbconvert_exporter": "python",
   "pygments_lexer": "ipython3",
   "version": "3.12.5"
  }
 },
 "nbformat": 4,
 "nbformat_minor": 5
}
